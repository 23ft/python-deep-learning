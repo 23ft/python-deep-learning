{
  "nbformat": 4,
  "nbformat_minor": 0,
  "metadata": {
    "colab": {
      "name": "04.Redes-neuronales-densamente-conectadas.ipynb",
      "provenance": []
    },
    "kernelspec": {
      "name": "python3",
      "display_name": "Python 3"
    },
    "accelerator": "GPU"
  },
  "cells": [
    {
      "cell_type": "markdown",
      "metadata": {
        "id": "0M4J-yXFSOTa",
        "colab_type": "text"
      },
      "source": [
        "# 04. Redes neuronales densamente conectadas"
      ]
    },
    {
      "cell_type": "markdown",
      "metadata": {
        "id": "sypkCAmgXnGp",
        "colab_type": "text"
      },
      "source": [
        "**Python Deep Learning**\n",
        "Introducción práctica con Keras y TensorFlow 2. Jordi Torres. Editorial Marcombo ISBN: 9788426728289 https://www.marcombo.com/python-deep-learning-9788426728289/"
      ]
    },
    {
      "cell_type": "markdown",
      "metadata": {
        "id": "ryl6ALGLSdUP",
        "colab_type": "text"
      },
      "source": [
        "## Inicializaciones"
      ]
    },
    {
      "cell_type": "code",
      "metadata": {
        "id": "s3KzA9ZUuLRB",
        "colab_type": "code",
        "outputId": "f709e2a8-a1ba-455e-b892-0baf37cc5451",
        "colab": {
          "base_uri": "https://localhost:8080/",
          "height": 52
        }
      },
      "source": [
        "try:\n",
        "  # %tensorflow_version solo existe en Colab.\n",
        "  %tensorflow_version 2.x\n",
        "except Exception:\n",
        "  pass\n",
        "\n",
        "import tensorflow as tf\n",
        "import numpy as np\n",
        "import matplotlib.pyplot as plt\n",
        "\n",
        "print(tf.__version__)"
      ],
      "execution_count": 1,
      "outputs": [
        {
          "output_type": "stream",
          "text": [
            "TensorFlow 2.x selected.\n",
            "2.1.0-rc1\n"
          ],
          "name": "stdout"
        }
      ]
    },
    {
      "cell_type": "markdown",
      "metadata": {
        "id": "w2B0J5r5SzrT",
        "colab_type": "text"
      },
      "source": [
        "## 4.1 Caso de estudio: reconocimiento de dígitos"
      ]
    },
    {
      "cell_type": "code",
      "metadata": {
        "id": "715hLvWqwPrJ",
        "colab_type": "code",
        "colab": {}
      },
      "source": [
        "mnist = tf.keras.datasets.mnist\n",
        "\n",
        "(x_train, y_train), (x_test, y_test) = mnist.load_data()"
      ],
      "execution_count": 0,
      "outputs": []
    },
    {
      "cell_type": "code",
      "metadata": {
        "id": "RGWzf-U5TBhm",
        "colab_type": "code",
        "colab": {
          "base_uri": "https://localhost:8080/",
          "height": 282
        },
        "outputId": "54222626-2035-460d-e6fa-4c198eca0d21"
      },
      "source": [
        "plt.imshow(x_train[8], cmap=plt.cm.binary)\n",
        "print(y_train[8])"
      ],
      "execution_count": 3,
      "outputs": [
        {
          "output_type": "stream",
          "text": [
            "1\n"
          ],
          "name": "stdout"
        },
        {
          "output_type": "display_data",
          "data": {
            "image/png": "[encoded data removed]",
            "text/plain": [
              "<Figure size 432x288 with 1 Axes>"
            ]
          },
          "metadata": {
            "tags": []
          }
        }
      ]
    },
    {
      "cell_type": "code",
      "metadata": {
        "id": "OOVttVw2TMuU",
        "colab_type": "code",
        "colab": {
          "base_uri": "https://localhost:8080/",
          "height": 521
        },
        "outputId": "c6f186ea-2b50-488d-a1bb-f2bf5fd94bae"
      },
      "source": [
        "np.set_printoptions(precision=2, suppress=True, linewidth=120)\n",
        "print(np.matrix(x_train[8]))"
      ],
      "execution_count": 4,
      "outputs": [
        {
          "output_type": "stream",
          "text": [
            "[[  0   0   0   0   0   0   0   0   0   0   0   0   0   0   0   0   0   0   0   0   0   0   0   0   0   0   0   0]\n",
            " [  0   0   0   0   0   0   0   0   0   0   0   0   0   0   0   0   0   0   0   0   0   0   0   0   0   0   0   0]\n",
            " [  0   0   0   0   0   0   0   0   0   0   0   0   0   0   0   0   0   0   0   0   0   0   0   0   0   0   0   0]\n",
            " [  0   0   0   0   0   0   0   0   0   0   0   0   0   0   0   0   0   0   0   0   0   0   0   0   0   0   0   0]\n",
            " [  0   0   0   0   0   0   0   0   0   0   0   0   0   0   0   0   0   0   0   0   0   0   0   0   0   0   0   0]\n",
            " [  0   0   0   0   0   0   0   0   0   0   0   0   5  63 197   0   0   0   0   0   0   0   0   0   0   0   0   0]\n",
            " [  0   0   0   0   0   0   0   0   0   0   0   0  20 254 230  24   0   0   0   0   0   0   0   0   0   0   0   0]\n",
            " [  0   0   0   0   0   0   0   0   0   0   0   0  20 254 254  48   0   0   0   0   0   0   0   0   0   0   0   0]\n",
            " [  0   0   0   0   0   0   0   0   0   0   0   0  20 254 255  48   0   0   0   0   0   0   0   0   0   0   0   0]\n",
            " [  0   0   0   0   0   0   0   0   0   0   0   0  20 254 254  57   0   0   0   0   0   0   0   0   0   0   0   0]\n",
            " [  0   0   0   0   0   0   0   0   0   0   0   0  20 254 254 108   0   0   0   0   0   0   0   0   0   0   0   0]\n",
            " [  0   0   0   0   0   0   0   0   0   0   0   0  16 239 254 143   0   0   0   0   0   0   0   0   0   0   0   0]\n",
            " [  0   0   0   0   0   0   0   0   0   0   0   0   0 178 254 143   0   0   0   0   0   0   0   0   0   0   0   0]\n",
            " [  0   0   0   0   0   0   0   0   0   0   0   0   0 178 254 143   0   0   0   0   0   0   0   0   0   0   0   0]\n",
            " [  0   0   0   0   0   0   0   0   0   0   0   0   0 178 254 162   0   0   0   0   0   0   0   0   0   0   0   0]\n",
            " [  0   0   0   0   0   0   0   0   0   0   0   0   0 178 254 240   0   0   0   0   0   0   0   0   0   0   0   0]\n",
            " [  0   0   0   0   0   0   0   0   0   0   0   0   0 113 254 240   0   0   0   0   0   0   0   0   0   0   0   0]\n",
            " [  0   0   0   0   0   0   0   0   0   0   0   0   0  83 254 245  31   0   0   0   0   0   0   0   0   0   0   0]\n",
            " [  0   0   0   0   0   0   0   0   0   0   0   0   0  79 254 246  38   0   0   0   0   0   0   0   0   0   0   0]\n",
            " [  0   0   0   0   0   0   0   0   0   0   0   0   0   0 214 254 150   0   0   0   0   0   0   0   0   0   0   0]\n",
            " [  0   0   0   0   0   0   0   0   0   0   0   0   0   0 144 241   8   0   0   0   0   0   0   0   0   0   0   0]\n",
            " [  0   0   0   0   0   0   0   0   0   0   0   0   0   0 144 240   2   0   0   0   0   0   0   0   0   0   0   0]\n",
            " [  0   0   0   0   0   0   0   0   0   0   0   0   0   0 144 254  82   0   0   0   0   0   0   0   0   0   0   0]\n",
            " [  0   0   0   0   0   0   0   0   0   0   0   0   0   0 230 247  40   0   0   0   0   0   0   0   0   0   0   0]\n",
            " [  0   0   0   0   0   0   0   0   0   0   0   0   0   0 168 209  31   0   0   0   0   0   0   0   0   0   0   0]\n",
            " [  0   0   0   0   0   0   0   0   0   0   0   0   0   0   0   0   0   0   0   0   0   0   0   0   0   0   0   0]\n",
            " [  0   0   0   0   0   0   0   0   0   0   0   0   0   0   0   0   0   0   0   0   0   0   0   0   0   0   0   0]\n",
            " [  0   0   0   0   0   0   0   0   0   0   0   0   0   0   0   0   0   0   0   0   0   0   0   0   0   0   0   0]]\n"
          ],
          "name": "stdout"
        }
      ]
    },
    {
      "cell_type": "markdown",
      "metadata": {
        "id": "lqciPxRNU99j",
        "colab_type": "text"
      },
      "source": [
        "## 4.4 Función de activación softmax"
      ]
    },
    {
      "cell_type": "markdown",
      "metadata": {
        "id": "eY_9fDfkVExh",
        "colab_type": "text"
      },
      "source": [
        "Modelo con una capa softmax para visualizar los modelos aprendidos"
      ]
    },
    {
      "cell_type": "code",
      "metadata": {
        "id": "wpaiBuKeTNGr",
        "colab_type": "code",
        "colab": {
          "base_uri": "https://localhost:8080/",
          "height": 279
        },
        "outputId": "bf4536ba-99d6-462e-c94a-6e6bdf60e58e"
      },
      "source": [
        "x_train = x_train.reshape((60000, 784))\n",
        "x_test = x_test.reshape((10000, 784))\n",
        "x_train, x_test = x_train / 255.0, x_test / 255.0\n",
        "\n",
        "model = tf.keras.models.Sequential([\n",
        "  tf.keras.layers.Dense(10, activation='softmax', name=\"FC1\", input_shape=(784,))\n",
        "])\n",
        "model.summary()\n",
        "\n",
        "model.compile(optimizer='adam',\n",
        "              loss='sparse_categorical_crossentropy',\n",
        "              metrics=['accuracy'])\n",
        "\n",
        "model.fit(x_train, y_train, epochs=1)\n",
        "\n",
        "model.evaluate(x_test,  y_test, verbose=2)"
      ],
      "execution_count": 5,
      "outputs": [
        {
          "output_type": "stream",
          "text": [
            "Model: \"sequential\"\n",
            "_________________________________________________________________\n",
            "Layer (type)                 Output Shape              Param #   \n",
            "=================================================================\n",
            "FC1 (Dense)                  (None, 10)                7850      \n",
            "=================================================================\n",
            "Total params: 7,850\n",
            "Trainable params: 7,850\n",
            "Non-trainable params: 0\n",
            "_________________________________________________________________\n",
            "Train on 60000 samples\n",
            "60000/60000 [==============================] - 4s 65us/sample - loss: 0.4702 - accuracy: 0.8777\n",
            "10000/10000 - 1s - loss: 0.3054 - accuracy: 0.9148\n"
          ],
          "name": "stdout"
        },
        {
          "output_type": "execute_result",
          "data": {
            "text/plain": [
              "[0.3053944380879402, 0.9148]"
            ]
          },
          "metadata": {
            "tags": []
          },
          "execution_count": 5
        }
      ]
    },
    {
      "cell_type": "markdown",
      "metadata": {
        "id": "Nhi-XHXoVqpn",
        "colab_type": "text"
      },
      "source": [
        "Figura 4.14 Modelo aprendido correspondiente al número 0"
      ]
    },
    {
      "cell_type": "code",
      "metadata": {
        "id": "2L96kEYlVSdQ",
        "colab_type": "code",
        "colab": {
          "base_uri": "https://localhost:8080/",
          "height": 282
        },
        "outputId": "1f2c0bea-51b1-4a58-cbbc-42582555d62f"
      },
      "source": [
        "w = model.get_weights()\n",
        "w = np.asarray(w[0])\n",
        "plt.figure()\n",
        "plt.imshow(w[:,0].reshape([28,28]), cmap=plt.get_cmap('seismic_r'))"
      ],
      "execution_count": 6,
      "outputs": [
        {
          "output_type": "execute_result",
          "data": {
            "text/plain": [
              "<matplotlib.image.AxesImage at 0x7fd2f015a6a0>"
            ]
          },
          "metadata": {
            "tags": []
          },
          "execution_count": 6
        },
        {
          "output_type": "display_data",
          "data": {
            "image/png": "[encoded data removed]",
            "text/plain": [
              "<Figure size 432x288 with 1 Axes>"
            ]
          },
          "metadata": {
            "tags": []
          }
        }
      ]
    },
    {
      "cell_type": "markdown",
      "metadata": {
        "id": "JF1cc6xoWtGE",
        "colab_type": "text"
      },
      "source": [
        "Figura 4.5 Matriz de parámetros correspondiente al modelo de la categoría cero"
      ]
    },
    {
      "cell_type": "code",
      "metadata": {
        "id": "Z0EhD5-QVSgA",
        "colab_type": "code",
        "colab": {
          "base_uri": "https://localhost:8080/",
          "height": 521
        },
        "outputId": "0eae272d-5134-40c9-d142-559e5c369802"
      },
      "source": [
        "np.set_printoptions(precision=0, suppress = True, linewidth=220)\n",
        "print(np.matrix (255*(w[:,0].reshape([28,28]))))"
      ],
      "execution_count": 7,
      "outputs": [
        {
          "output_type": "stream",
          "text": [
            "[[  -3.   -6.   -7.  -17.  -10.   20.  -18.  -12.   17.   14.    6.    8.  -19.   -8.  -13.  -19.   14.   21.   14.   20.  -18.   17.   11.    5.   -1.    9.    8.  -13.]\n",
            " [ -14.   10.    4.   -7.   16.    5.   10.  -30.   14.  -21.   11.    6.  -20.  -20.   -7.    4.   -8.  -16.  -19.  -24.  -18.  -27.  -17.   10.  -15.   17.   14.   -9.]\n",
            " [ -20.   20.   19.  -19.    7.  -26.  -46.  -33.  -11.  -35.  -33.  -28.  -51.  -63.  -41.  -55.  -61.  -77.  -42.  -38.  -59.  -25.  -37.  -42.  -24.    6.  -15.   -3.]\n",
            " [   5.   -6.  -18.  -14.  -33.   -1.   -4.  -53.  -42.  -24.  -32.  -31.  -36.   -5.  -20.  -30.  -23.  -52.  -51.  -60.  -65.  -29.  -38.  -19.  -18.   -9.  -10.   15.]\n",
            " [  16.   17.  -21.  -10.  -31.  -14.  -32.   -9.  -39.  -10.  -43.  -20.  -18.  -22.   -9.   15.  -18.  -16.  -19.  -24.   -6.  -46.  -19.  -38.  -53.  -41.  -14.  -13.]\n",
            " [ -14.   18.  -35.   -5.  -23.  -50.  -11.  -49.  -42.  -17.  -30.  -10.  -18.   17.   23.   23.   36.   13.    5.   -6.   -1.   10.  -30.  -41.  -61.  -63.  -36.    6.]\n",
            " [  11.   11.  -23.  -12.  -46.  -25.  -14.  -48.  -44.  -29.  -31.  -13.    2.   24.   15.   24.   14.   46.   31.   14.   21.   -4.    3.  -28.  -81.  -66.  -35.  -34.]\n",
            " [  -7.  -36.  -36.  -14.  -28.  -13.  -42.  -20.  -26.  -13.   11.  -15.   15.   24.   -7.   30.   16.   38.   11.   14.   -1.   20.   18.    1.  -69.  -65.  -52.   -4.]\n",
            " [ -14.  -16.  -24.  -13.  -39.  -45.  -12.  -23.  -39.  -11.   -8.   -9.    8.   -7.   24.   18.   43.   39.   50.   35.    4.   -7.   15.   26.  -38. -119.  -74.  -31.]\n",
            " [   7.  -28.   -7.    1.  -32.  -16.  -41.   -8.   -1.  -21.  -17.    5.   12.    0.   34.   -1.   13.   23.   36.   33.   23.  -11.   35.   15.    7.  -91.  -59.  -20.]\n",
            " [   4.   11.  -21.   -6.  -19.  -13.   -0.    7.   -7.  -23.   10.  -11.    6.   -2.  -20.  -36.  -14.   12.   17.   38.   33.    8.   34.   25.    8.  -60.  -58.  -14.]\n",
            " [ -21.    3.  -35.  -13.  -64.   -0.  -14.    5.  -17.    4.  -17.    1.    6.    1.  -62.  -70.  -55.  -39.  -31.   28.   12.   12.   32.   37.   34.  -47.  -54.  -12.]\n",
            " [ -16.   14.    1.  -22.  -32.  -12.   16.   12.   -1.   16.  -10.   25.    8.  -55.  -66. -115. -106.  -55.   -8.   -3.   24.   41.   45.   45.   53.   -2.  -40.  -18.]\n",
            " [   9.   13.   -3.   -8.  -34.   -6.   20.   33.   -1.   -0.   23.   -6.  -39.  -71. -108. -113.  -99.  -49.  -23.  -29.   -7.    4.   31.   28.   43.   15.  -50.  -16.]\n",
            " [ -15.   -1.  -18.  -56.   -7.    6.   20.    8.   37.   14.   38.    4.  -54.  -88.  -83. -123.  -75.  -61.  -38.   -2.    3.   42.   17.   38.   47.    2.  -57.   -4.]\n",
            " [ -11.   -8.   -1.  -53.  -18.   44.   16.   17.   17.   19.   24.  -30.  -71. -107.  -86. -114.  -95.  -36.  -13.   -4.   26.    5.   14.   32.   23.    1.  -20.    4.]\n",
            " [   2.  -23.  -25.  -60.    4.   13.   26.   13.   39.   42.   42.    1.  -75. -122. -107. -100.  -56.  -38.   13.   22.    5.    9.   37.   15.   15.  -38.  -18.  -21.]\n",
            " [ -22.    4.  -12.  -43.   -1.    2.   21.   32.   21.   33.   32.  -16.  -60.  -95.  -82.  -57.  -35.    2.   16.    8.    2.   28.    5.   -0.   13.  -36.  -18.  -17.]\n",
            " [  -1.  -14.  -14.  -62.   -9.   -0.   20.    1.   34.   39.   39.   -7.  -60.  -88.  -74.  -36.  -20.   14.  -13.    0.    4.    3.    9.   11.    0.  -47.  -25.  -36.]\n",
            " [  -9.  -18.  -34.  -64.  -25.  -16.   20.   23.   21.   42.   44.    3.  -18.  -11.  -29.  -22.   -9.   25.   -1.   10.  -15.   -2.   12.  -21.  -14.  -22.  -20.   -0.]\n",
            " [  -8.   16.  -18.  -59.   -6.  -10.  -16.   19.   15.   23.   29.   24.   11.   -2.   11.  -13.   22.  -12.   -2.  -15.   -5.  -11.    2.  -17.  -28.  -35.    8.   -5.]\n",
            " [  19.    4.  -36.  -35.  -15.  -10.   15.   12.   10.   37.   45.   26.   28.    2.   27.   12.    3.  -14.  -30.   -6.  -23.   -3.  -27.  -27.  -17.   -1.    8.    9.]\n",
            " [ -17.  -21.   -9.  -44.  -45.   15.   24.   -1.   -2.    2.   32.   30.   52.   41.   40.   -6.   12.    4.  -11.  -23.  -10.  -45.  -19.  -47.  -32.   10.  -14.    2.]\n",
            " [ -14.    9.   14.  -46.  -21.  -29.  -12.   18.   -4.   24.   28.   50.   46.   40.   23.   16.  -14.   -1.  -15.  -39.  -49.  -31.  -21.  -23.  -26.  -21.  -15.   15.]\n",
            " [  21.    0.  -13.  -24.   -8.  -44.  -31.  -46.  -39.  -35.    7.  -17.  -17.   -1.   -2.  -10.  -28.  -55.  -61.  -59.  -42.  -54.  -23.  -28.  -25.   -5.   15.   15.]\n",
            " [ -13.    6.  -29.   -5.  -15.  -56.  -63.  -54.  -88.  -71.  -87.  -70.  -85.  -96.  -94.  -66.  -77.  -70.  -59.  -81.  -55.  -49.  -26.  -12.  -25.    1.    1.   -6.]\n",
            " [  10.    3.  -14.   11.   -8.  -39.  -42.  -57.  -63.  -66.  -37.  -34.  -56.  -70.  -44.  -75.  -45.  -54.  -56.  -53.  -47.  -29.  -31.    3.    5.   10.    2.  -15.]\n",
            " [ -21.  -19.   -4.   -3.    9.    9.    9.   10.  -20.   -3.   -4.   -2.  -20.  -21.  -37.  -39.    0.  -37.   -6.   -4.  -23.    2.  -20.   -5.    7.   22.   -1.   13.]]\n"
          ],
          "name": "stdout"
        }
      ]
    },
    {
      "cell_type": "markdown",
      "metadata": {
        "id": "vDEEuEtgW9qV",
        "colab_type": "text"
      },
      "source": [
        "Figura 4.16 Modelo aprendido correspondiente al número 3"
      ]
    },
    {
      "cell_type": "code",
      "metadata": {
        "id": "227dP4lWVSji",
        "colab_type": "code",
        "colab": {
          "base_uri": "https://localhost:8080/",
          "height": 282
        },
        "outputId": "cfd669c8-d8f3-4fe8-c3be-c02c9e77c74e"
      },
      "source": [
        "w = model.get_weights()\n",
        "w = np.asarray(w[0])\n",
        "plt.figure()\n",
        "plt.imshow(w[:,3].reshape([28,28]), cmap=plt.get_cmap('seismic_r'))"
      ],
      "execution_count": 8,
      "outputs": [
        {
          "output_type": "execute_result",
          "data": {
            "text/plain": [
              "<matplotlib.image.AxesImage at 0x7fd2f0076588>"
            ]
          },
          "metadata": {
            "tags": []
          },
          "execution_count": 8
        },
        {
          "output_type": "display_data",
          "data": {
            "image/png": "[encoded data removed]",
            "text/plain": [
              "<Figure size 432x288 with 1 Axes>"
            ]
          },
          "metadata": {
            "tags": []
          }
        }
      ]
    }
  ]
}