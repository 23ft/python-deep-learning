{
  "nbformat": 4,
  "nbformat_minor": 0,
  "metadata": {
    "accelerator": "GPU",
    "colab": {
      "name": "13-Redes-neuronales-recurrentes.ipynb",
      "provenance": [],
      "collapsed_sections": []
    },
    "kernelspec": {
      "name": "python3",
      "display_name": "Python 3"
    }
  },
  "cells": [
    {
      "cell_type": "markdown",
      "metadata": {
        "id": "eK8eUOQU7q2V",
        "colab_type": "text"
      },
      "source": [
        "# 13. Redesneuronales recurrentes\n",
        "[**Python Deep Learning** Introducción práctica con Keras y TensorFlow 2. Jordi Torres. Editorial Marcombo ISBN: 9788426728289 ](https://www.marcombo.com/python-deep-learning-9788426728289/)"
      ]
    },
    {
      "cell_type": "markdown",
      "metadata": {
        "colab_type": "text",
        "id": "WGyKZj3bzf9p"
      },
      "source": [
        "### Importar TensorFlow 2.0  y otras librerias"
      ]
    },
    {
      "cell_type": "code",
      "metadata": {
        "id": "zWrJnG1jZd00",
        "colab_type": "code",
        "outputId": "2890c214-097c-45a5-9f4f-530af585ebb6",
        "colab": {
          "base_uri": "https://localhost:8080/",
          "height": 35
        }
      },
      "source": [
        "%tensorflow_version 2.x\n",
        "import tensorflow as tf\n",
        "from tensorflow import keras\n",
        "\n",
        "import numpy as np\n",
        "import os\n",
        "import time"
      ],
      "execution_count": 1,
      "outputs": [
        {
          "output_type": "stream",
          "text": [
            "TensorFlow 2.x selected.\n"
          ],
          "name": "stdout"
        }
      ]
    },
    {
      "cell_type": "markdown",
      "metadata": {
        "colab_type": "text",
        "id": "EHDoRoc5PKWz"
      },
      "source": [
        "### Descarga del conjunto de datos"
      ]
    },
    {
      "cell_type": "code",
      "metadata": {
        "id": "qEt4CQ0ru7O5",
        "colab_type": "code",
        "colab": {}
      },
      "source": [
        "\n",
        "from google.colab import files\n",
        "# se debe cargar el fichero “Libro-Deep-Learning-introduccion-practica-con-Keras-1a-parte.txt”\n",
        "#files.upload()\n",
        "\n",
        "#path_to_fileDL ='/content/Libro-Deep-Learning-introduccion-practica-con-Keras-1a-parte.txt'\n",
        "\n",
        "#path_to_fileDL = tf.keras.utils.get_file('Shakespear.txt', 'https://cs.stanford.edu/people/karpathy/char-rnn/shakespear.txt')\n"
      ],
      "execution_count": 0,
      "outputs": []
    },
    {
      "cell_type": "code",
      "metadata": {
        "id": "8aLK0rR5v4H0",
        "colab_type": "code",
        "colab": {
          "base_uri": "https://localhost:8080/",
          "height": 72
        },
        "outputId": "f3bb5073-57f7-4c0d-9b63-13b3df75f29b"
      },
      "source": [
        "#PARA BORRAR EN VERSIÓN DEFINITIVA\n",
        "path_to_fileDL = tf.keras.utils.get_file('DL-Introduccion-practica-con-Keras-1a.txt', 'https://raw.githubusercontent.com/jorditorresBCN/Deep-Learning-Introduccion-practica-con-Keras/master/DeepLearning-Introduccion-practica-con-Keras-PRIMERA-PARTE.txt')"
      ],
      "execution_count": 4,
      "outputs": [
        {
          "output_type": "stream",
          "text": [
            "Downloading data from https://raw.githubusercontent.com/jorditorresBCN/Deep-Learning-Introduccion-practica-con-Keras/master/DeepLearning-Introduccion-practica-con-Keras-PRIMERA-PARTE.txt\n",
            "204800/203286 [==============================] - 0s 0us/step\n"
          ],
          "name": "stdout"
        }
      ]
    },
    {
      "cell_type": "code",
      "metadata": {
        "colab_type": "code",
        "id": "pD_55cOxLkAb",
        "outputId": "f2c36128-fa34-4907-f380-b44056af5dee",
        "colab": {
          "base_uri": "https://localhost:8080/",
          "height": 89
        }
      },
      "source": [
        "\n",
        "\n",
        "text = open(path_to_fileDL, 'rb').read().decode(encoding='utf-8')\n",
        "print('Longitud del texto:        {} carácteres'.format(len(text)))\n",
        "\n",
        "vocab = sorted(set(text))\n",
        "\n",
        "print ('El texto está compuesto de estos {} carácteres:'.format(len(vocab)))\n",
        "print (vocab)"
      ],
      "execution_count": 5,
      "outputs": [
        {
          "output_type": "stream",
          "text": [
            "Longitud del texto:        203251 carácteres\n",
            "El texto está compuesto de estos 92 carácteres:\n",
            "['\\n', '\\r', ' ', '!', '\"', '#', '%', \"'\", '(', ')', '*', '+', ',', '-', '.', '/', '0', '1', '2', '3', '4', '5', '6', '7', '8', '9', ':', ';', '<', '=', '>', '?', '@', 'A', 'B', 'C', 'D', 'E', 'F', 'G', 'H', 'I', 'J', 'K', 'L', 'M', 'N', 'O', 'P', 'Q', 'R', 'S', 'T', 'U', 'V', 'W', 'X', 'Y', '[', ']', '_', 'a', 'b', 'c', 'd', 'e', 'f', 'g', 'h', 'i', 'j', 'k', 'l', 'm', 'n', 'o', 'p', 'q', 'r', 's', 't', 'u', 'v', 'w', 'x', 'y', 'z', '\\xad', 'ÿ', 'Š', '‡', '…']\n"
          ],
          "name": "stdout"
        }
      ]
    },
    {
      "cell_type": "code",
      "metadata": {
        "colab_type": "code",
        "id": "IalZLbvOzf-F",
        "outputId": "9d9ba10e-104a-4bc6-9658-00d231ddf0c5",
        "colab": {
          "base_uri": "https://localhost:8080/",
          "height": 1000
        }
      },
      "source": [
        "char2idx = {u:i for i, u in enumerate(vocab)}\n",
        "idx2char = np.array(vocab)\n",
        "\n",
        "for char,_ in zip(char2idx, range(len(vocab))):\n",
        "    print('  {:4s}: {:3d},'.format(repr(char), char2idx[char]))"
      ],
      "execution_count": 6,
      "outputs": [
        {
          "output_type": "stream",
          "text": [
            "  '\\n':   0,\n",
            "  '\\r':   1,\n",
            "  ' ' :   2,\n",
            "  '!' :   3,\n",
            "  '\"' :   4,\n",
            "  '#' :   5,\n",
            "  '%' :   6,\n",
            "  \"'\" :   7,\n",
            "  '(' :   8,\n",
            "  ')' :   9,\n",
            "  '*' :  10,\n",
            "  '+' :  11,\n",
            "  ',' :  12,\n",
            "  '-' :  13,\n",
            "  '.' :  14,\n",
            "  '/' :  15,\n",
            "  '0' :  16,\n",
            "  '1' :  17,\n",
            "  '2' :  18,\n",
            "  '3' :  19,\n",
            "  '4' :  20,\n",
            "  '5' :  21,\n",
            "  '6' :  22,\n",
            "  '7' :  23,\n",
            "  '8' :  24,\n",
            "  '9' :  25,\n",
            "  ':' :  26,\n",
            "  ';' :  27,\n",
            "  '<' :  28,\n",
            "  '=' :  29,\n",
            "  '>' :  30,\n",
            "  '?' :  31,\n",
            "  '@' :  32,\n",
            "  'A' :  33,\n",
            "  'B' :  34,\n",
            "  'C' :  35,\n",
            "  'D' :  36,\n",
            "  'E' :  37,\n",
            "  'F' :  38,\n",
            "  'G' :  39,\n",
            "  'H' :  40,\n",
            "  'I' :  41,\n",
            "  'J' :  42,\n",
            "  'K' :  43,\n",
            "  'L' :  44,\n",
            "  'M' :  45,\n",
            "  'N' :  46,\n",
            "  'O' :  47,\n",
            "  'P' :  48,\n",
            "  'Q' :  49,\n",
            "  'R' :  50,\n",
            "  'S' :  51,\n",
            "  'T' :  52,\n",
            "  'U' :  53,\n",
            "  'V' :  54,\n",
            "  'W' :  55,\n",
            "  'X' :  56,\n",
            "  'Y' :  57,\n",
            "  '[' :  58,\n",
            "  ']' :  59,\n",
            "  '_' :  60,\n",
            "  'a' :  61,\n",
            "  'b' :  62,\n",
            "  'c' :  63,\n",
            "  'd' :  64,\n",
            "  'e' :  65,\n",
            "  'f' :  66,\n",
            "  'g' :  67,\n",
            "  'h' :  68,\n",
            "  'i' :  69,\n",
            "  'j' :  70,\n",
            "  'k' :  71,\n",
            "  'l' :  72,\n",
            "  'm' :  73,\n",
            "  'n' :  74,\n",
            "  'o' :  75,\n",
            "  'p' :  76,\n",
            "  'q' :  77,\n",
            "  'r' :  78,\n",
            "  's' :  79,\n",
            "  't' :  80,\n",
            "  'u' :  81,\n",
            "  'v' :  82,\n",
            "  'w' :  83,\n",
            "  'x' :  84,\n",
            "  'y' :  85,\n",
            "  'z' :  86,\n",
            "  '\\xad':  87,\n",
            "  'ÿ' :  88,\n",
            "  'Š' :  89,\n",
            "  '‡' :  90,\n",
            "  '…' :  91,\n"
          ],
          "name": "stdout"
        }
      ]
    },
    {
      "cell_type": "code",
      "metadata": {
        "id": "ML-DuUyi_aHy",
        "colab_type": "code",
        "colab": {}
      },
      "source": [
        "text_as_int = np.array([char2idx[c] for c in text])"
      ],
      "execution_count": 0,
      "outputs": []
    },
    {
      "cell_type": "code",
      "metadata": {
        "colab_type": "code",
        "id": "l1VKcQHcymwb",
        "outputId": "a70168d9-307f-4a69-c39c-469ce099462b",
        "colab": {
          "base_uri": "https://localhost:8080/",
          "height": 86
        }
      },
      "source": [
        "print ('texto: {}'.format(repr(text[:50])))\n",
        "print ('{}'.format(repr(text_as_int[:50])))"
      ],
      "execution_count": 8,
      "outputs": [
        {
          "output_type": "stream",
          "text": [
            "texto: 'Prologo\\r\\nEn 1953, Isaac Asimov publico Segunda Fun'\n",
            "array([48, 78, 75, 72, 75, 67, 75,  1,  0, 37, 74,  2, 17, 25, 21, 19, 12,\n",
            "        2, 41, 79, 61, 61, 63,  2, 33, 79, 69, 73, 75, 82,  2, 76, 81, 62,\n",
            "       72, 69, 63, 75,  2, 51, 65, 67, 81, 74, 64, 61,  2, 38, 81, 74])\n"
          ],
          "name": "stdout"
        }
      ]
    },
    {
      "cell_type": "markdown",
      "metadata": {
        "colab_type": "text",
        "id": "hgsVvVxnymwf"
      },
      "source": [
        "### Preparar los datos para entrenar la RNN\n"
      ]
    },
    {
      "cell_type": "code",
      "metadata": {
        "colab_type": "code",
        "id": "0UHJDA39zf-O",
        "colab": {}
      },
      "source": [
        "char_dataset = tf.data.Dataset.from_tensor_slices(text_as_int)\n",
        "\n",
        "seq_length = 100\n",
        " \n",
        "sequences = char_dataset.batch(seq_length+1, drop_remainder=True)\n",
        "\n"
      ],
      "execution_count": 0,
      "outputs": []
    },
    {
      "cell_type": "code",
      "metadata": {
        "colab_type": "code",
        "id": "l4hkDU3i7ozi",
        "outputId": "29e5fd93-9b87-4537-f5ab-02805832aac5",
        "colab": {
          "base_uri": "https://localhost:8080/",
          "height": 190
        }
      },
      "source": [
        "for item in sequences.take(10):\n",
        "  print(repr(''.join(idx2char[item.numpy()])))"
      ],
      "execution_count": 10,
      "outputs": [
        {
          "output_type": "stream",
          "text": [
            "'Prologo\\r\\nEn 1953, Isaac Asimov publico Segunda Fundacion, el tercer libro de la saga de la Fundacion '\n",
            "'(o el decimotercero segun otras fuentes, este es un tema de debate). En Segunda Fundacion aparece por'\n",
            "' primera vez Arkady Darell, uno de los principales personajes de la parte final de la saga. En su pri'\n",
            "'mera escena, Arkady, que tiene 14 anos, esta haciendo sus tareas escolares. En concreto, una redaccio'\n",
            "'n que lleva por titulo ?El Futuro del Plan Sheldon?. Para hacer la redaccion, Arkady esta utilizando '\n",
            "'un ?transcriptor?,un dispositivo que convierte su voz en palabras escritas. Este tipo de dispositivo,'\n",
            "' que para Isaac Asimov era ciencia ficcion en 1953, lo tenemos al alcance de la mano en la mayoria de'\n",
            "' nuestros smartphones, y el Deep Learning es uno de los responsables de que ya tengamos este tipo de '\n",
            "'aplicaciones, siendo la tecnologia otro de ellos.En la actualidad disponemos de GPUs (Graphics Proces'\n",
            "'sor Units), que solo cuestan alrededor de 100 euros, que estarian en la lista del Top500 hace unos po'\n"
          ],
          "name": "stdout"
        }
      ]
    },
    {
      "cell_type": "code",
      "metadata": {
        "colab_type": "code",
        "id": "9NGu-FkO_kYU",
        "colab": {}
      },
      "source": [
        "def split_input_target(chunk):\n",
        "    input_text = chunk[:-1]\n",
        "    target_text = chunk[1:]\n",
        "    return input_text, target_text\n",
        "\n",
        "dataset = sequences.map(split_input_target)\n"
      ],
      "execution_count": 0,
      "outputs": []
    },
    {
      "cell_type": "code",
      "metadata": {
        "colab_type": "code",
        "id": "GNbw-iR0ymwj",
        "outputId": "cd3867f6-deca-4965-a1fb-0a8e0215bee8",
        "colab": {
          "base_uri": "https://localhost:8080/",
          "height": 72
        }
      },
      "source": [
        "for input_example, target_example in  dataset.take(1):\n",
        "  print ('Input data: ', repr(''.join(idx2char[input_example.numpy()])))\n",
        "  print ('Target data:', repr(''.join(idx2char[target_example.numpy()])))"
      ],
      "execution_count": 12,
      "outputs": [
        {
          "output_type": "stream",
          "text": [
            "Input data:  'Prologo\\r\\nEn 1953, Isaac Asimov publico Segunda Fundacion, el tercer libro de la saga de la Fundacion'\n",
            "Target data: 'rologo\\r\\nEn 1953, Isaac Asimov publico Segunda Fundacion, el tercer libro de la saga de la Fundacion '\n"
          ],
          "name": "stdout"
        }
      ]
    },
    {
      "cell_type": "code",
      "metadata": {
        "colab_type": "code",
        "id": "0eBu9WZG84i0",
        "outputId": "a0c86823-fb1f-45c8-df8b-ae662bad03c2",
        "colab": {
          "base_uri": "https://localhost:8080/",
          "height": 35
        }
      },
      "source": [
        "print (dataset)"
      ],
      "execution_count": 13,
      "outputs": [
        {
          "output_type": "stream",
          "text": [
            "<MapDataset shapes: ((100,), (100,)), types: (tf.int64, tf.int64)>\n"
          ],
          "name": "stdout"
        }
      ]
    },
    {
      "cell_type": "code",
      "metadata": {
        "colab_type": "code",
        "id": "p2pGotuNzf-S",
        "outputId": "9e4ccfdf-2bf9-4dac-b02b-3aa17cdd3760",
        "colab": {
          "base_uri": "https://localhost:8080/",
          "height": 35
        }
      },
      "source": [
        "BATCH_SIZE = 64\n",
        "\n",
        "BUFFER_SIZE = 10000\n",
        "\n",
        "dataset = dataset.shuffle(BUFFER_SIZE).batch(BATCH_SIZE, drop_remainder=True)\n",
        "\n",
        "print (dataset)"
      ],
      "execution_count": 14,
      "outputs": [
        {
          "output_type": "stream",
          "text": [
            "<BatchDataset shapes: ((64, 100), (64, 100)), types: (tf.int64, tf.int64)>\n"
          ],
          "name": "stdout"
        }
      ]
    },
    {
      "cell_type": "markdown",
      "metadata": {
        "colab_type": "text",
        "id": "r6oUuElIMgVx"
      },
      "source": [
        "### Construcción del modelo"
      ]
    },
    {
      "cell_type": "code",
      "metadata": {
        "colab_type": "code",
        "id": "zHT8cLh7EAsg",
        "colab": {}
      },
      "source": [
        "vocab_size = len(vocab)\n",
        "embedding_dim = 256\n",
        "rnn_units = 1024"
      ],
      "execution_count": 0,
      "outputs": []
    },
    {
      "cell_type": "code",
      "metadata": {
        "id": "3pKJl2dqwHRl",
        "colab_type": "code",
        "colab": {}
      },
      "source": [
        "from tensorflow.keras import Sequential\n",
        "from tensorflow.keras.layers import Embedding, LSTM, Dense\n",
        "\n",
        "def build_model(vocab_size, embedding_dim, rnn_units, batch_size):\n",
        "  model = Sequential()\n",
        "  model.add(Embedding(input_dim=vocab_size, \n",
        "                      output_dim=embedding_dim, \n",
        "                      batch_input_shape=[batch_size, None]))\n",
        "  model.add(LSTM(rnn_units,\n",
        "                 return_sequences=True,\n",
        "                 stateful=True,\n",
        "                 recurrent_initializer='glorot_uniform'))\n",
        "  model.add(Dense(vocab_size))\n",
        "  return model"
      ],
      "execution_count": 0,
      "outputs": []
    },
    {
      "cell_type": "code",
      "metadata": {
        "colab_type": "code",
        "id": "wwsrpOik5zhv",
        "colab": {}
      },
      "source": [
        "model = build_model(\n",
        "  vocab_size = len(vocab),\n",
        "  embedding_dim=embedding_dim,\n",
        "  rnn_units=rnn_units,\n",
        "  batch_size=BATCH_SIZE)"
      ],
      "execution_count": 0,
      "outputs": []
    },
    {
      "cell_type": "code",
      "metadata": {
        "id": "PpHGXDMcZ0Zt",
        "colab_type": "code",
        "outputId": "e5109c4e-af83-4634-e006-9f79ee64c8d3",
        "colab": {
          "base_uri": "https://localhost:8080/",
          "height": 259
        }
      },
      "source": [
        "model.summary()"
      ],
      "execution_count": 20,
      "outputs": [
        {
          "output_type": "stream",
          "text": [
            "Model: \"sequential\"\n",
            "_________________________________________________________________\n",
            "Layer (type)                 Output Shape              Param #   \n",
            "=================================================================\n",
            "embedding (Embedding)        (64, None, 256)           23552     \n",
            "_________________________________________________________________\n",
            "lstm (LSTM)                  (64, None, 1024)          5246976   \n",
            "_________________________________________________________________\n",
            "dense (Dense)                (64, None, 92)            94300     \n",
            "=================================================================\n",
            "Total params: 5,364,828\n",
            "Trainable params: 5,364,828\n",
            "Non-trainable params: 0\n",
            "_________________________________________________________________\n"
          ],
          "name": "stdout"
        }
      ]
    },
    {
      "cell_type": "code",
      "metadata": {
        "colab_type": "code",
        "id": "C-_70kKAPrPU",
        "outputId": "35d98a7f-f4eb-45c8-af41-f660deced603",
        "colab": {
          "base_uri": "https://localhost:8080/",
          "height": 52
        }
      },
      "source": [
        "for input_example_batch, target_example_batch in dataset.take(1):\n",
        "  print(\"Input:\", input_example_batch.shape, \"# (batch_size, sequence_length)\")\n",
        "  print(\"Target:\", target_example_batch.shape, \"# (batch_size, sequence_length)\")\n"
      ],
      "execution_count": 0,
      "outputs": [
        {
          "output_type": "stream",
          "text": [
            "Input: (64, 100) # (batch_size, sequence_length)\n",
            "Target: (64, 100) # (batch_size, sequence_length)\n"
          ],
          "name": "stdout"
        }
      ]
    },
    {
      "cell_type": "code",
      "metadata": {
        "id": "udE_6eTldMhB",
        "colab_type": "code",
        "outputId": "81da58df-0e26-4b39-ed01-ad0eac7a7caf",
        "colab": {
          "base_uri": "https://localhost:8080/",
          "height": 35
        }
      },
      "source": [
        "for input_example_batch, target_example_batch in dataset.take(1):  \n",
        "    example_batch_predictions = model(input_example_batch)\n",
        "    print(\"Prediction: \", example_batch_predictions.shape, \"# (batch_size, sequence_length, vocab_size)\")"
      ],
      "execution_count": 0,
      "outputs": [
        {
          "output_type": "stream",
          "text": [
            "Prediction:  (64, 100, 91) # (batch_size, sequence_length, vocab_size)\n"
          ],
          "name": "stdout"
        }
      ]
    },
    {
      "cell_type": "code",
      "metadata": {
        "colab_type": "code",
        "id": "4V4MfFg0RQJg",
        "colab": {}
      },
      "source": [
        "sampled_indices = tf.random.categorical(example_batch_predictions[0], num_samples=1)\n",
        "sampled_indices_characters = tf.squeeze(sampled_indices,axis=-1).numpy()"
      ],
      "execution_count": 0,
      "outputs": []
    },
    {
      "cell_type": "code",
      "metadata": {
        "colab_type": "code",
        "id": "YqFMUQc_UFgM",
        "outputId": "f0611148-6697-4f20-c9db-2049d5df1cb4",
        "colab": {
          "base_uri": "https://localhost:8080/",
          "height": 121
        }
      },
      "source": [
        "sampled_indices_characters"
      ],
      "execution_count": 0,
      "outputs": [
        {
          "output_type": "execute_result",
          "data": {
            "text/plain": [
              "array([14, 15, 14, 59, 53, 79, 89, 37, 55, 49, 61, 78, 25, 56, 78, 14, 48,\n",
              "       80, 22,  2, 63, 13, 21, 84, 84, 72, 26, 15, 19, 62, 22, 78, 42, 80,\n",
              "       56,  7,  2, 75, 72, 25, 38, 70, 13, 43, 14, 69, 53, 56,  4, 20, 14,\n",
              "        2, 75, 68,  9, 35, 54, 40, 20, 21,  5, 81, 44, 59, 73, 81,  2, 65,\n",
              "       72, 81,  2, 10, 77, 60, 54, 12, 70, 79, 64, 43, 26, 31, 41,  6, 28,\n",
              "        7,  0, 21, 49, 49, 43,  6,  3, 79, 17, 16, 78, 38, 14, 50])"
            ]
          },
          "metadata": {
            "tags": []
          },
          "execution_count": 20
        }
      ]
    },
    {
      "cell_type": "markdown",
      "metadata": {
        "colab_type": "text",
        "id": "trpqTWyvk0nr"
      },
      "source": [
        "Entrenar el modelo"
      ]
    },
    {
      "cell_type": "code",
      "metadata": {
        "colab_type": "code",
        "id": "4HrXTACTdzY-",
        "colab": {}
      },
      "source": [
        "def loss(labels, logits):\n",
        "  return tf.keras.losses.sparse_categorical_crossentropy(labels, logits, from_logits=True)"
      ],
      "execution_count": 0,
      "outputs": []
    },
    {
      "cell_type": "code",
      "metadata": {
        "colab_type": "code",
        "id": "DDl1_Een6rL0",
        "colab": {}
      },
      "source": [
        "model.compile(optimizer='adam', loss=loss)"
      ],
      "execution_count": 0,
      "outputs": []
    },
    {
      "cell_type": "markdown",
      "metadata": {
        "colab_type": "text",
        "id": "ieSJdchZggUj"
      },
      "source": [
        "Configurar el *checkpoints*"
      ]
    },
    {
      "cell_type": "code",
      "metadata": {
        "colab_type": "code",
        "id": "W6fWTriUZP-n",
        "colab": {}
      },
      "source": [
        " # directorio\n",
        "checkpoint_dir = './training_checkpoints'\n",
        "# nombre fichero\n",
        "checkpoint_prefix = os.path.join(checkpoint_dir, \"ckpt_{epoch}\")\n",
        "\n",
        "checkpoint_callback=tf.keras.callbacks.ModelCheckpoint(\n",
        "    filepath=checkpoint_prefix,\n",
        "    save_weights_only=True)"
      ],
      "execution_count": 0,
      "outputs": []
    },
    {
      "cell_type": "markdown",
      "metadata": {
        "colab_type": "text",
        "id": "3Ky3F_BhgkTW"
      },
      "source": [
        "*Training*"
      ]
    },
    {
      "cell_type": "code",
      "metadata": {
        "colab_type": "code",
        "id": "UK-hmKjYVoll",
        "outputId": "81b9d8e1-3640-401c-f4ba-0b6b2c61809b",
        "colab": {
          "base_uri": "https://localhost:8080/",
          "height": 1000
        }
      },
      "source": [
        "EPOCHS=50\n",
        "history = model.fit(dataset, epochs=EPOCHS, callbacks=[checkpoint_callback])"
      ],
      "execution_count": 0,
      "outputs": [
        {
          "output_type": "stream",
          "text": [
            "Train for 31 steps\n",
            "Epoch 1/50\n",
            "31/31 [==============================] - 4s 116ms/step - loss: 3.2211\n",
            "Epoch 2/50\n",
            "31/31 [==============================] - 2s 75ms/step - loss: 2.7647\n",
            "Epoch 3/50\n",
            "31/31 [==============================] - 2s 75ms/step - loss: 2.4131\n",
            "Epoch 4/50\n",
            "31/31 [==============================] - 2s 73ms/step - loss: 2.2176\n",
            "Epoch 5/50\n",
            "31/31 [==============================] - 2s 74ms/step - loss: 2.1037\n",
            "Epoch 6/50\n",
            "31/31 [==============================] - 2s 73ms/step - loss: 1.9737\n",
            "Epoch 7/50\n",
            "31/31 [==============================] - 2s 73ms/step - loss: 1.8459\n",
            "Epoch 8/50\n",
            "31/31 [==============================] - 2s 73ms/step - loss: 1.7187\n",
            "Epoch 9/50\n",
            "31/31 [==============================] - 2s 73ms/step - loss: 1.6065\n",
            "Epoch 10/50\n",
            "31/31 [==============================] - 2s 73ms/step - loss: 1.4985\n",
            "Epoch 11/50\n",
            "31/31 [==============================] - 2s 73ms/step - loss: 1.4070\n",
            "Epoch 12/50\n",
            "31/31 [==============================] - 2s 74ms/step - loss: 1.3238\n",
            "Epoch 13/50\n",
            "31/31 [==============================] - 2s 77ms/step - loss: 1.2529\n",
            "Epoch 14/50\n",
            "31/31 [==============================] - 2s 73ms/step - loss: 1.1924\n",
            "Epoch 15/50\n",
            "31/31 [==============================] - 2s 73ms/step - loss: 1.1369\n",
            "Epoch 16/50\n",
            "31/31 [==============================] - 2s 74ms/step - loss: 1.0927\n",
            "Epoch 17/50\n",
            "31/31 [==============================] - 2s 73ms/step - loss: 1.0381\n",
            "Epoch 18/50\n",
            "31/31 [==============================] - 2s 74ms/step - loss: 0.9923\n",
            "Epoch 19/50\n",
            "31/31 [==============================] - 2s 73ms/step - loss: 0.9489\n",
            "Epoch 20/50\n",
            "31/31 [==============================] - 2s 73ms/step - loss: 0.9029\n",
            "Epoch 21/50\n",
            "31/31 [==============================] - 2s 74ms/step - loss: 0.8606\n",
            "Epoch 22/50\n",
            "31/31 [==============================] - 2s 73ms/step - loss: 0.8192\n",
            "Epoch 23/50\n",
            "31/31 [==============================] - 2s 72ms/step - loss: 0.7794\n",
            "Epoch 24/50\n",
            "31/31 [==============================] - 2s 75ms/step - loss: 0.7376\n",
            "Epoch 25/50\n",
            "31/31 [==============================] - 2s 73ms/step - loss: 0.6985\n",
            "Epoch 26/50\n",
            "31/31 [==============================] - 2s 74ms/step - loss: 0.6574\n",
            "Epoch 27/50\n",
            "31/31 [==============================] - 2s 73ms/step - loss: 0.6220\n",
            "Epoch 28/50\n",
            "31/31 [==============================] - 2s 74ms/step - loss: 0.5841\n",
            "Epoch 29/50\n",
            "31/31 [==============================] - 2s 74ms/step - loss: 0.5486\n",
            "Epoch 30/50\n",
            "31/31 [==============================] - 2s 74ms/step - loss: 0.5171\n",
            "Epoch 31/50\n",
            "31/31 [==============================] - 2s 72ms/step - loss: 0.4845\n",
            "Epoch 32/50\n",
            "31/31 [==============================] - 2s 73ms/step - loss: 0.4541\n",
            "Epoch 33/50\n",
            "31/31 [==============================] - 2s 74ms/step - loss: 0.4265\n",
            "Epoch 34/50\n",
            "31/31 [==============================] - 2s 74ms/step - loss: 0.4028\n",
            "Epoch 35/50\n",
            "31/31 [==============================] - 2s 74ms/step - loss: 0.3811\n",
            "Epoch 36/50\n",
            "31/31 [==============================] - 2s 73ms/step - loss: 0.3623\n",
            "Epoch 37/50\n",
            "31/31 [==============================] - 2s 74ms/step - loss: 0.3448\n",
            "Epoch 38/50\n",
            "31/31 [==============================] - 2s 75ms/step - loss: 0.3265\n",
            "Epoch 39/50\n",
            "31/31 [==============================] - 2s 74ms/step - loss: 0.3163\n",
            "Epoch 40/50\n",
            "31/31 [==============================] - 2s 72ms/step - loss: 0.3021\n",
            "Epoch 41/50\n",
            "31/31 [==============================] - 2s 74ms/step - loss: 0.2926\n",
            "Epoch 42/50\n",
            "31/31 [==============================] - 2s 74ms/step - loss: 0.2851\n",
            "Epoch 43/50\n",
            "31/31 [==============================] - 2s 74ms/step - loss: 0.2755\n",
            "Epoch 44/50\n",
            "31/31 [==============================] - 2s 74ms/step - loss: 0.2669\n",
            "Epoch 45/50\n",
            "31/31 [==============================] - 2s 74ms/step - loss: 0.2621\n",
            "Epoch 46/50\n",
            "31/31 [==============================] - 2s 73ms/step - loss: 0.2563\n",
            "Epoch 47/50\n",
            "31/31 [==============================] - 2s 74ms/step - loss: 0.2493\n",
            "Epoch 48/50\n",
            "31/31 [==============================] - 2s 74ms/step - loss: 0.2421\n",
            "Epoch 49/50\n",
            "31/31 [==============================] - 2s 73ms/step - loss: 0.2414\n",
            "Epoch 50/50\n",
            "31/31 [==============================] - 2s 74ms/step - loss: 0.2358\n"
          ],
          "name": "stdout"
        }
      ]
    },
    {
      "cell_type": "markdown",
      "metadata": {
        "colab_type": "text",
        "id": "kKkD5M6eoSiN"
      },
      "source": [
        "### Generación de texto"
      ]
    },
    {
      "cell_type": "code",
      "metadata": {
        "colab_type": "code",
        "id": "zk2WJ2-XjkGz",
        "outputId": "a78dcd0b-ac72-477e-b5eb-67c228b3308c",
        "colab": {
          "base_uri": "https://localhost:8080/",
          "height": 35
        }
      },
      "source": [
        "tf.train.latest_checkpoint(checkpoint_dir)"
      ],
      "execution_count": 0,
      "outputs": [
        {
          "output_type": "execute_result",
          "data": {
            "text/plain": [
              "'./training_checkpoints/ckpt_50'"
            ]
          },
          "metadata": {
            "tags": []
          },
          "execution_count": 25
        }
      ]
    },
    {
      "cell_type": "code",
      "metadata": {
        "colab_type": "code",
        "id": "LycQ-ot_jjyu",
        "colab": {}
      },
      "source": [
        "model = build_model(vocab_size, embedding_dim, rnn_units, batch_size=1)\n",
        "\n",
        "model.load_weights(tf.train.latest_checkpoint(checkpoint_dir))\n",
        "\n",
        "model.build(tf.TensorShape([1, None]))"
      ],
      "execution_count": 0,
      "outputs": []
    },
    {
      "cell_type": "code",
      "metadata": {
        "colab_type": "code",
        "id": "WvuwZBX5Ogfd",
        "colab": {}
      },
      "source": [
        "def generate_text(model, start_string):\n",
        "\n",
        "  num_generate = 500\n",
        "  input_eval = [char2idx[s] for s in start_string]\n",
        "\n",
        "  input_eval = tf.expand_dims(input_eval, 0)\n",
        "  text_generated = []\n",
        "\n",
        "\n",
        "  temperature = 0.5\n",
        "\n",
        "  model.reset_states()\n",
        "  for i in range(num_generate):\n",
        "      predictions = model(input_eval)\n",
        "      \n",
        "      predictions = tf.squeeze(predictions, 0)\n",
        "\n",
        "      predictions = predictions / temperature\n",
        "      predicted_id = tf.random.categorical(predictions, num_samples=1)[-1,0].numpy()\n",
        "\n",
        "\n",
        "      input_eval = tf.expand_dims([predicted_id], 0)\n",
        "\n",
        "      text_generated.append(idx2char[predicted_id])\n",
        "\n",
        "  return (start_string + ''.join(text_generated))"
      ],
      "execution_count": 0,
      "outputs": []
    },
    {
      "cell_type": "code",
      "metadata": {
        "colab_type": "code",
        "id": "ktovv0RFhrkn",
        "outputId": "9e5c3f9f-c554-4c43-a346-d0489bc94b3e",
        "colab": {
          "base_uri": "https://localhost:8080/",
          "height": 72
        }
      },
      "source": [
        "print(generate_text(model, start_string=u\"a\"))"
      ],
      "execution_count": 0,
      "outputs": [
        {
          "output_type": "stream",
          "text": [
            "al de que se deben con el filtro y el punado de 25 neuronas (5?5) de la capa de entrada.\n",
            "Ahora bien, lo particular y muy importante en el resultado del aprendizaje.  Estos de tamano que comentaremos mas adelante, en el proceso de entrenamiento aparecera el concepto de overfitting (al que tambien referenciaremos por su tratado con una sola generado es una excelencia de cada uno de sus pixeles a esa clase. Para explicar los casos en que el modelo en cada paso la nueva generacion de supercomputacion\n"
          ],
          "name": "stdout"
        }
      ]
    }
  ]
}