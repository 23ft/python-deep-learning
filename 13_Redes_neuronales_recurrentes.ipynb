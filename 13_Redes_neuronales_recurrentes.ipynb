{
  "nbformat": 4,
  "nbformat_minor": 0,
  "metadata": {
    "accelerator": "GPU",
    "colab": {
      "name": "13-Redes-neuronales-recurrentes.ipynb",
      "provenance": [],
      "collapsed_sections": []
    },
    "kernelspec": {
      "name": "python3",
      "display_name": "Python 3"
    }
  },
  "cells": [
    {
      "cell_type": "markdown",
      "metadata": {
        "id": "eK8eUOQU7q2V",
        "colab_type": "text"
      },
      "source": [
        "# 13. Redesneuronales recurrentes\n",
        "[**Python Deep Learning** Introducción práctica con Keras y TensorFlow 2. Jordi Torres. Editorial Marcombo ISBN: 9788426728289 ](https://www.marcombo.com/python-deep-learning-9788426728289/)"
      ]
    },
    {
      "cell_type": "markdown",
      "metadata": {
        "colab_type": "text",
        "id": "WGyKZj3bzf9p"
      },
      "source": [
        "### Importar TensorFlow 2.0  y otras librerias"
      ]
    },
    {
      "cell_type": "code",
      "metadata": {
        "id": "zWrJnG1jZd00",
        "colab_type": "code",
        "outputId": "275d8c56-e1c5-4c1c-e5d1-8e580ddaa8f5",
        "colab": {
          "base_uri": "https://localhost:8080/",
          "height": 35
        }
      },
      "source": [
        "%tensorflow_version 2.x\n",
        "import tensorflow as tf\n",
        "from tensorflow import keras\n",
        "\n",
        "import numpy as np\n",
        "import os\n",
        "import time"
      ],
      "execution_count": 1,
      "outputs": [
        {
          "output_type": "stream",
          "text": [
            "TensorFlow 2.x selected.\n"
          ],
          "name": "stdout"
        }
      ]
    },
    {
      "cell_type": "markdown",
      "metadata": {
        "colab_type": "text",
        "id": "EHDoRoc5PKWz"
      },
      "source": [
        "### Descarga del conjunto de datos"
      ]
    },
    {
      "cell_type": "code",
      "metadata": {
        "id": "qEt4CQ0ru7O5",
        "colab_type": "code",
        "colab": {}
      },
      "source": [
        "\n",
        "from google.colab import files\n",
        "# se debe cargar el fichero “Libro-Deep-Learning-introduccion-practica-con-Keras-1a-parte.txt”\n",
        "#files.upload()\n",
        "\n",
        "path_to_fileDL ='/content/Libro-Deep-Learning-introduccion-practica-con-Keras-1a-parte.txt'\n",
        "\n",
        "#path_to_fileDL = tf.keras.utils.get_file('Shakespear.txt', 'https://cs.stanford.edu/people/karpathy/char-rnn/shakespear.txt')\n"
      ],
      "execution_count": 0,
      "outputs": []
    },
    {
      "cell_type": "code",
      "metadata": {
        "colab_type": "code",
        "id": "pD_55cOxLkAb",
        "outputId": "9b396a1c-8971-4b72-fc63-f1a81c0844de",
        "colab": {
          "base_uri": "https://localhost:8080/",
          "height": 89
        }
      },
      "source": [
        "\n",
        "\n",
        "text = open(path_to_fileDL, 'rb').read().decode(encoding='utf-8')\n",
        "print('Longitud del texto:        {} carácteres'.format(len(text)))\n",
        "\n",
        "vocab = sorted(set(text))\n",
        "\n",
        "print ('El texto está compuesto de estos {} carácteres:'.format(len(vocab)))\n",
        "print (vocab)"
      ],
      "execution_count": 3,
      "outputs": [
        {
          "output_type": "stream",
          "text": [
            "Longitud del texto:        201709 carácteres\n",
            "El texto está compuesto de estos 91 carácteres:\n",
            "['\\n', ' ', '!', '\"', '#', '%', \"'\", '(', ')', '*', '+', ',', '-', '.', '/', '0', '1', '2', '3', '4', '5', '6', '7', '8', '9', ':', ';', '<', '=', '>', '?', '@', 'A', 'B', 'C', 'D', 'E', 'F', 'G', 'H', 'I', 'J', 'K', 'L', 'M', 'N', 'O', 'P', 'Q', 'R', 'S', 'T', 'U', 'V', 'W', 'X', 'Y', '[', ']', '_', 'a', 'b', 'c', 'd', 'e', 'f', 'g', 'h', 'i', 'j', 'k', 'l', 'm', 'n', 'o', 'p', 'q', 'r', 's', 't', 'u', 'v', 'w', 'x', 'y', 'z', '\\xad', 'ÿ', 'Š', '‡', '…']\n"
          ],
          "name": "stdout"
        }
      ]
    },
    {
      "cell_type": "code",
      "metadata": {
        "colab_type": "code",
        "id": "IalZLbvOzf-F",
        "outputId": "dafb5887-6358-4eed-85c6-468a83e5c06b",
        "colab": {
          "base_uri": "https://localhost:8080/",
          "height": 1000
        }
      },
      "source": [
        "char2idx = {u:i for i, u in enumerate(vocab)}\n",
        "idx2char = np.array(vocab)\n",
        "\n",
        "for char,_ in zip(char2idx, range(len(vocab))):\n",
        "    print('  {:4s}: {:3d},'.format(repr(char), char2idx[char]))"
      ],
      "execution_count": 4,
      "outputs": [
        {
          "output_type": "stream",
          "text": [
            "  '\\n':   0,\n",
            "  ' ' :   1,\n",
            "  '!' :   2,\n",
            "  '\"' :   3,\n",
            "  '#' :   4,\n",
            "  '%' :   5,\n",
            "  \"'\" :   6,\n",
            "  '(' :   7,\n",
            "  ')' :   8,\n",
            "  '*' :   9,\n",
            "  '+' :  10,\n",
            "  ',' :  11,\n",
            "  '-' :  12,\n",
            "  '.' :  13,\n",
            "  '/' :  14,\n",
            "  '0' :  15,\n",
            "  '1' :  16,\n",
            "  '2' :  17,\n",
            "  '3' :  18,\n",
            "  '4' :  19,\n",
            "  '5' :  20,\n",
            "  '6' :  21,\n",
            "  '7' :  22,\n",
            "  '8' :  23,\n",
            "  '9' :  24,\n",
            "  ':' :  25,\n",
            "  ';' :  26,\n",
            "  '<' :  27,\n",
            "  '=' :  28,\n",
            "  '>' :  29,\n",
            "  '?' :  30,\n",
            "  '@' :  31,\n",
            "  'A' :  32,\n",
            "  'B' :  33,\n",
            "  'C' :  34,\n",
            "  'D' :  35,\n",
            "  'E' :  36,\n",
            "  'F' :  37,\n",
            "  'G' :  38,\n",
            "  'H' :  39,\n",
            "  'I' :  40,\n",
            "  'J' :  41,\n",
            "  'K' :  42,\n",
            "  'L' :  43,\n",
            "  'M' :  44,\n",
            "  'N' :  45,\n",
            "  'O' :  46,\n",
            "  'P' :  47,\n",
            "  'Q' :  48,\n",
            "  'R' :  49,\n",
            "  'S' :  50,\n",
            "  'T' :  51,\n",
            "  'U' :  52,\n",
            "  'V' :  53,\n",
            "  'W' :  54,\n",
            "  'X' :  55,\n",
            "  'Y' :  56,\n",
            "  '[' :  57,\n",
            "  ']' :  58,\n",
            "  '_' :  59,\n",
            "  'a' :  60,\n",
            "  'b' :  61,\n",
            "  'c' :  62,\n",
            "  'd' :  63,\n",
            "  'e' :  64,\n",
            "  'f' :  65,\n",
            "  'g' :  66,\n",
            "  'h' :  67,\n",
            "  'i' :  68,\n",
            "  'j' :  69,\n",
            "  'k' :  70,\n",
            "  'l' :  71,\n",
            "  'm' :  72,\n",
            "  'n' :  73,\n",
            "  'o' :  74,\n",
            "  'p' :  75,\n",
            "  'q' :  76,\n",
            "  'r' :  77,\n",
            "  's' :  78,\n",
            "  't' :  79,\n",
            "  'u' :  80,\n",
            "  'v' :  81,\n",
            "  'w' :  82,\n",
            "  'x' :  83,\n",
            "  'y' :  84,\n",
            "  'z' :  85,\n",
            "  '\\xad':  86,\n",
            "  'ÿ' :  87,\n",
            "  'Š' :  88,\n",
            "  '‡' :  89,\n",
            "  '…' :  90,\n"
          ],
          "name": "stdout"
        }
      ]
    },
    {
      "cell_type": "code",
      "metadata": {
        "id": "ML-DuUyi_aHy",
        "colab_type": "code",
        "colab": {}
      },
      "source": [
        "text_as_int = np.array([char2idx[c] for c in text])"
      ],
      "execution_count": 0,
      "outputs": []
    },
    {
      "cell_type": "code",
      "metadata": {
        "colab_type": "code",
        "id": "l1VKcQHcymwb",
        "outputId": "e083bb48-25b1-4efb-89bf-43c041962709",
        "colab": {
          "base_uri": "https://localhost:8080/",
          "height": 86
        }
      },
      "source": [
        "print ('texto: {}'.format(repr(text[:50])))\n",
        "print ('{}'.format(repr(text_as_int[:50])))"
      ],
      "execution_count": 6,
      "outputs": [
        {
          "output_type": "stream",
          "text": [
            "texto: 'Prologo\\nEn 1953, Isaac Asimov publico Segunda Fund'\n",
            "array([47, 77, 74, 71, 74, 66, 74,  0, 36, 73,  1, 16, 24, 20, 18, 11,  1,\n",
            "       40, 78, 60, 60, 62,  1, 32, 78, 68, 72, 74, 81,  1, 75, 80, 61, 71,\n",
            "       68, 62, 74,  1, 50, 64, 66, 80, 73, 63, 60,  1, 37, 80, 73, 63])\n"
          ],
          "name": "stdout"
        }
      ]
    },
    {
      "cell_type": "markdown",
      "metadata": {
        "colab_type": "text",
        "id": "hgsVvVxnymwf"
      },
      "source": [
        "### Preparar los datos para entrenar la RNN\n"
      ]
    },
    {
      "cell_type": "code",
      "metadata": {
        "colab_type": "code",
        "id": "0UHJDA39zf-O",
        "colab": {}
      },
      "source": [
        "char_dataset = tf.data.Dataset.from_tensor_slices(text_as_int)\n",
        "\n",
        "seq_length = 100\n",
        " \n",
        "sequences = char_dataset.batch(seq_length+1, drop_remainder=True)\n",
        "\n"
      ],
      "execution_count": 0,
      "outputs": []
    },
    {
      "cell_type": "code",
      "metadata": {
        "colab_type": "code",
        "id": "l4hkDU3i7ozi",
        "outputId": "117c1cf8-6c79-4a44-d7d1-5c431d7ef0fb",
        "colab": {
          "base_uri": "https://localhost:8080/",
          "height": 210
        }
      },
      "source": [
        "for item in sequences.take(10):\n",
        "  print(repr(''.join(idx2char[item.numpy()])))"
      ],
      "execution_count": 8,
      "outputs": [
        {
          "output_type": "stream",
          "text": [
            "'Prologo\\nEn 1953, Isaac Asimov publico Segunda Fundacion, el tercer libro de la saga de la Fundacion ('\n",
            "'o el decimotercero segun otras fuentes, este es un tema de debate). En Segunda Fundacion aparece por '\n",
            "'primera vez Arkady Darell, uno de los principales personajes de la parte final de la saga. En su prim'\n",
            "'era escena, Arkady, que tiene 14 anos, esta haciendo sus tareas escolares. En concreto, una redaccion'\n",
            "' que lleva por titulo ?El Futuro del Plan Sheldon?. Para hacer la redaccion, Arkady esta utilizando u'\n",
            "'n ?transcriptor?,un dispositivo que convierte su voz en palabras escritas. Este tipo de dispositivo, '\n",
            "'que para Isaac Asimov era ciencia ficcion en 1953, lo tenemos al alcance de la mano en la mayoria de '\n",
            "'nuestros smartphones, y el Deep Learning es uno de los responsables de que ya tengamos este tipo de a'\n",
            "'plicaciones, siendo la tecnologia otro de ellos.En la actualidad disponemos de GPUs (Graphics Process'\n",
            "'or Units), que solo cuestan alrededor de 100 euros, que estarian en la lista del Top500 hace unos poc'\n"
          ],
          "name": "stdout"
        }
      ]
    },
    {
      "cell_type": "code",
      "metadata": {
        "colab_type": "code",
        "id": "9NGu-FkO_kYU",
        "colab": {}
      },
      "source": [
        "def split_input_target(chunk):\n",
        "    input_text = chunk[:-1]\n",
        "    target_text = chunk[1:]\n",
        "    return input_text, target_text\n",
        "\n",
        "dataset = sequences.map(split_input_target)\n"
      ],
      "execution_count": 0,
      "outputs": []
    },
    {
      "cell_type": "code",
      "metadata": {
        "colab_type": "code",
        "id": "GNbw-iR0ymwj",
        "outputId": "b1957219-50fa-4bab-96a0-629c96420661",
        "colab": {
          "base_uri": "https://localhost:8080/",
          "height": 72
        }
      },
      "source": [
        "for input_example, target_example in  dataset.take(1):\n",
        "  print ('Input data: ', repr(''.join(idx2char[input_example.numpy()])))\n",
        "  print ('Target data:', repr(''.join(idx2char[target_example.numpy()])))"
      ],
      "execution_count": 10,
      "outputs": [
        {
          "output_type": "stream",
          "text": [
            "Input data:  'Prologo\\nEn 1953, Isaac Asimov publico Segunda Fundacion, el tercer libro de la saga de la Fundacion '\n",
            "Target data: 'rologo\\nEn 1953, Isaac Asimov publico Segunda Fundacion, el tercer libro de la saga de la Fundacion ('\n"
          ],
          "name": "stdout"
        }
      ]
    },
    {
      "cell_type": "code",
      "metadata": {
        "colab_type": "code",
        "id": "0eBu9WZG84i0",
        "outputId": "6e008f97-7e26-4315-aa03-0c3147576737",
        "colab": {
          "base_uri": "https://localhost:8080/",
          "height": 35
        }
      },
      "source": [
        "print (dataset)"
      ],
      "execution_count": 11,
      "outputs": [
        {
          "output_type": "stream",
          "text": [
            "<MapDataset shapes: ((100,), (100,)), types: (tf.int64, tf.int64)>\n"
          ],
          "name": "stdout"
        }
      ]
    },
    {
      "cell_type": "code",
      "metadata": {
        "colab_type": "code",
        "id": "p2pGotuNzf-S",
        "outputId": "792d48a8-da33-4b98-e9c4-249650be8910",
        "colab": {
          "base_uri": "https://localhost:8080/",
          "height": 35
        }
      },
      "source": [
        "BATCH_SIZE = 64\n",
        "\n",
        "BUFFER_SIZE = 10000\n",
        "\n",
        "dataset = dataset.shuffle(BUFFER_SIZE).batch(BATCH_SIZE, drop_remainder=True)\n",
        "\n",
        "print (dataset)"
      ],
      "execution_count": 12,
      "outputs": [
        {
          "output_type": "stream",
          "text": [
            "<BatchDataset shapes: ((64, 100), (64, 100)), types: (tf.int64, tf.int64)>\n"
          ],
          "name": "stdout"
        }
      ]
    },
    {
      "cell_type": "markdown",
      "metadata": {
        "colab_type": "text",
        "id": "r6oUuElIMgVx"
      },
      "source": [
        "### Construcción del modelo"
      ]
    },
    {
      "cell_type": "code",
      "metadata": {
        "colab_type": "code",
        "id": "zHT8cLh7EAsg",
        "colab": {}
      },
      "source": [
        "vocab_size = len(vocab)\n",
        "embedding_dim = 256\n",
        "rnn_units = 1024"
      ],
      "execution_count": 0,
      "outputs": []
    },
    {
      "cell_type": "code",
      "metadata": {
        "colab_type": "code",
        "id": "MtCrdfzEI2N0",
        "colab": {}
      },
      "source": [
        "def build_model(vocab_size, embedding_dim, rnn_units, batch_size):\n",
        "  model = tf.keras.Sequential([\n",
        "    tf.keras.layers.Embedding(vocab_size, embedding_dim,\n",
        "                              batch_input_shape=[batch_size, None]),\n",
        "    tf.keras.layers.LSTM(rnn_units,\n",
        "                        return_sequences=True,\n",
        "                        stateful=True,\n",
        "                        recurrent_initializer='glorot_uniform'),\n",
        "    tf.keras.layers.Dense(vocab_size)\n",
        "  ])\n",
        "  return model"
      ],
      "execution_count": 0,
      "outputs": []
    },
    {
      "cell_type": "code",
      "metadata": {
        "colab_type": "code",
        "id": "wwsrpOik5zhv",
        "colab": {}
      },
      "source": [
        "model = build_model(\n",
        "  vocab_size = len(vocab),\n",
        "  embedding_dim=embedding_dim,\n",
        "  rnn_units=rnn_units,\n",
        "  batch_size=BATCH_SIZE)"
      ],
      "execution_count": 0,
      "outputs": []
    },
    {
      "cell_type": "code",
      "metadata": {
        "id": "PpHGXDMcZ0Zt",
        "colab_type": "code",
        "outputId": "8bd6ccca-ff76-426c-8416-d677a14771ed",
        "colab": {
          "base_uri": "https://localhost:8080/",
          "height": 259
        }
      },
      "source": [
        "model.summary()"
      ],
      "execution_count": 16,
      "outputs": [
        {
          "output_type": "stream",
          "text": [
            "Model: \"sequential\"\n",
            "_________________________________________________________________\n",
            "Layer (type)                 Output Shape              Param #   \n",
            "=================================================================\n",
            "embedding (Embedding)        (64, None, 256)           23296     \n",
            "_________________________________________________________________\n",
            "lstm (LSTM)                  (64, None, 1024)          5246976   \n",
            "_________________________________________________________________\n",
            "dense (Dense)                (64, None, 91)            93275     \n",
            "=================================================================\n",
            "Total params: 5,363,547\n",
            "Trainable params: 5,363,547\n",
            "Non-trainable params: 0\n",
            "_________________________________________________________________\n"
          ],
          "name": "stdout"
        }
      ]
    },
    {
      "cell_type": "code",
      "metadata": {
        "colab_type": "code",
        "id": "C-_70kKAPrPU",
        "outputId": "35d98a7f-f4eb-45c8-af41-f660deced603",
        "colab": {
          "base_uri": "https://localhost:8080/",
          "height": 52
        }
      },
      "source": [
        "for input_example_batch, target_example_batch in dataset.take(1):\n",
        "  print(\"Input:\", input_example_batch.shape, \"# (batch_size, sequence_length)\")\n",
        "  print(\"Target:\", target_example_batch.shape, \"# (batch_size, sequence_length)\")\n"
      ],
      "execution_count": 17,
      "outputs": [
        {
          "output_type": "stream",
          "text": [
            "Input: (64, 100) # (batch_size, sequence_length)\n",
            "Target: (64, 100) # (batch_size, sequence_length)\n"
          ],
          "name": "stdout"
        }
      ]
    },
    {
      "cell_type": "code",
      "metadata": {
        "id": "udE_6eTldMhB",
        "colab_type": "code",
        "outputId": "81da58df-0e26-4b39-ed01-ad0eac7a7caf",
        "colab": {
          "base_uri": "https://localhost:8080/",
          "height": 35
        }
      },
      "source": [
        "for input_example_batch, target_example_batch in dataset.take(1):  \n",
        "    example_batch_predictions = model(input_example_batch)\n",
        "    print(\"Prediction: \", example_batch_predictions.shape, \"# (batch_size, sequence_length, vocab_size)\")"
      ],
      "execution_count": 18,
      "outputs": [
        {
          "output_type": "stream",
          "text": [
            "Prediction:  (64, 100, 91) # (batch_size, sequence_length, vocab_size)\n"
          ],
          "name": "stdout"
        }
      ]
    },
    {
      "cell_type": "code",
      "metadata": {
        "colab_type": "code",
        "id": "4V4MfFg0RQJg",
        "colab": {}
      },
      "source": [
        "sampled_indices = tf.random.categorical(example_batch_predictions[0], num_samples=1)\n",
        "sampled_indices_characters = tf.squeeze(sampled_indices,axis=-1).numpy()"
      ],
      "execution_count": 0,
      "outputs": []
    },
    {
      "cell_type": "code",
      "metadata": {
        "colab_type": "code",
        "id": "YqFMUQc_UFgM",
        "outputId": "f0611148-6697-4f20-c9db-2049d5df1cb4",
        "colab": {
          "base_uri": "https://localhost:8080/",
          "height": 121
        }
      },
      "source": [
        "sampled_indices_characters"
      ],
      "execution_count": 20,
      "outputs": [
        {
          "output_type": "execute_result",
          "data": {
            "text/plain": [
              "array([14, 15, 14, 59, 53, 79, 89, 37, 55, 49, 61, 78, 25, 56, 78, 14, 48,\n",
              "       80, 22,  2, 63, 13, 21, 84, 84, 72, 26, 15, 19, 62, 22, 78, 42, 80,\n",
              "       56,  7,  2, 75, 72, 25, 38, 70, 13, 43, 14, 69, 53, 56,  4, 20, 14,\n",
              "        2, 75, 68,  9, 35, 54, 40, 20, 21,  5, 81, 44, 59, 73, 81,  2, 65,\n",
              "       72, 81,  2, 10, 77, 60, 54, 12, 70, 79, 64, 43, 26, 31, 41,  6, 28,\n",
              "        7,  0, 21, 49, 49, 43,  6,  3, 79, 17, 16, 78, 38, 14, 50])"
            ]
          },
          "metadata": {
            "tags": []
          },
          "execution_count": 20
        }
      ]
    },
    {
      "cell_type": "markdown",
      "metadata": {
        "colab_type": "text",
        "id": "trpqTWyvk0nr"
      },
      "source": [
        "Entrenar el modelo"
      ]
    },
    {
      "cell_type": "code",
      "metadata": {
        "colab_type": "code",
        "id": "4HrXTACTdzY-",
        "colab": {}
      },
      "source": [
        "def loss(labels, logits):\n",
        "  return tf.keras.losses.sparse_categorical_crossentropy(labels, logits, from_logits=True)"
      ],
      "execution_count": 0,
      "outputs": []
    },
    {
      "cell_type": "code",
      "metadata": {
        "colab_type": "code",
        "id": "DDl1_Een6rL0",
        "colab": {}
      },
      "source": [
        "model.compile(optimizer='adam', loss=loss)"
      ],
      "execution_count": 0,
      "outputs": []
    },
    {
      "cell_type": "markdown",
      "metadata": {
        "colab_type": "text",
        "id": "ieSJdchZggUj"
      },
      "source": [
        "Configurar el *checkpoints*"
      ]
    },
    {
      "cell_type": "code",
      "metadata": {
        "colab_type": "code",
        "id": "W6fWTriUZP-n",
        "colab": {}
      },
      "source": [
        " # directorio\n",
        "checkpoint_dir = './training_checkpoints'\n",
        "# nombre fichero\n",
        "checkpoint_prefix = os.path.join(checkpoint_dir, \"ckpt_{epoch}\")\n",
        "\n",
        "checkpoint_callback=tf.keras.callbacks.ModelCheckpoint(\n",
        "    filepath=checkpoint_prefix,\n",
        "    save_weights_only=True)"
      ],
      "execution_count": 0,
      "outputs": []
    },
    {
      "cell_type": "markdown",
      "metadata": {
        "colab_type": "text",
        "id": "3Ky3F_BhgkTW"
      },
      "source": [
        "*Training*"
      ]
    },
    {
      "cell_type": "code",
      "metadata": {
        "colab_type": "code",
        "id": "UK-hmKjYVoll",
        "outputId": "81b9d8e1-3640-401c-f4ba-0b6b2c61809b",
        "colab": {
          "base_uri": "https://localhost:8080/",
          "height": 1000
        }
      },
      "source": [
        "EPOCHS=50\n",
        "history = model.fit(dataset, epochs=EPOCHS, callbacks=[checkpoint_callback])"
      ],
      "execution_count": 24,
      "outputs": [
        {
          "output_type": "stream",
          "text": [
            "Train for 31 steps\n",
            "Epoch 1/50\n",
            "31/31 [==============================] - 4s 116ms/step - loss: 3.2211\n",
            "Epoch 2/50\n",
            "31/31 [==============================] - 2s 75ms/step - loss: 2.7647\n",
            "Epoch 3/50\n",
            "31/31 [==============================] - 2s 75ms/step - loss: 2.4131\n",
            "Epoch 4/50\n",
            "31/31 [==============================] - 2s 73ms/step - loss: 2.2176\n",
            "Epoch 5/50\n",
            "31/31 [==============================] - 2s 74ms/step - loss: 2.1037\n",
            "Epoch 6/50\n",
            "31/31 [==============================] - 2s 73ms/step - loss: 1.9737\n",
            "Epoch 7/50\n",
            "31/31 [==============================] - 2s 73ms/step - loss: 1.8459\n",
            "Epoch 8/50\n",
            "31/31 [==============================] - 2s 73ms/step - loss: 1.7187\n",
            "Epoch 9/50\n",
            "31/31 [==============================] - 2s 73ms/step - loss: 1.6065\n",
            "Epoch 10/50\n",
            "31/31 [==============================] - 2s 73ms/step - loss: 1.4985\n",
            "Epoch 11/50\n",
            "31/31 [==============================] - 2s 73ms/step - loss: 1.4070\n",
            "Epoch 12/50\n",
            "31/31 [==============================] - 2s 74ms/step - loss: 1.3238\n",
            "Epoch 13/50\n",
            "31/31 [==============================] - 2s 77ms/step - loss: 1.2529\n",
            "Epoch 14/50\n",
            "31/31 [==============================] - 2s 73ms/step - loss: 1.1924\n",
            "Epoch 15/50\n",
            "31/31 [==============================] - 2s 73ms/step - loss: 1.1369\n",
            "Epoch 16/50\n",
            "31/31 [==============================] - 2s 74ms/step - loss: 1.0927\n",
            "Epoch 17/50\n",
            "31/31 [==============================] - 2s 73ms/step - loss: 1.0381\n",
            "Epoch 18/50\n",
            "31/31 [==============================] - 2s 74ms/step - loss: 0.9923\n",
            "Epoch 19/50\n",
            "31/31 [==============================] - 2s 73ms/step - loss: 0.9489\n",
            "Epoch 20/50\n",
            "31/31 [==============================] - 2s 73ms/step - loss: 0.9029\n",
            "Epoch 21/50\n",
            "31/31 [==============================] - 2s 74ms/step - loss: 0.8606\n",
            "Epoch 22/50\n",
            "31/31 [==============================] - 2s 73ms/step - loss: 0.8192\n",
            "Epoch 23/50\n",
            "31/31 [==============================] - 2s 72ms/step - loss: 0.7794\n",
            "Epoch 24/50\n",
            "31/31 [==============================] - 2s 75ms/step - loss: 0.7376\n",
            "Epoch 25/50\n",
            "31/31 [==============================] - 2s 73ms/step - loss: 0.6985\n",
            "Epoch 26/50\n",
            "31/31 [==============================] - 2s 74ms/step - loss: 0.6574\n",
            "Epoch 27/50\n",
            "31/31 [==============================] - 2s 73ms/step - loss: 0.6220\n",
            "Epoch 28/50\n",
            "31/31 [==============================] - 2s 74ms/step - loss: 0.5841\n",
            "Epoch 29/50\n",
            "31/31 [==============================] - 2s 74ms/step - loss: 0.5486\n",
            "Epoch 30/50\n",
            "31/31 [==============================] - 2s 74ms/step - loss: 0.5171\n",
            "Epoch 31/50\n",
            "31/31 [==============================] - 2s 72ms/step - loss: 0.4845\n",
            "Epoch 32/50\n",
            "31/31 [==============================] - 2s 73ms/step - loss: 0.4541\n",
            "Epoch 33/50\n",
            "31/31 [==============================] - 2s 74ms/step - loss: 0.4265\n",
            "Epoch 34/50\n",
            "31/31 [==============================] - 2s 74ms/step - loss: 0.4028\n",
            "Epoch 35/50\n",
            "31/31 [==============================] - 2s 74ms/step - loss: 0.3811\n",
            "Epoch 36/50\n",
            "31/31 [==============================] - 2s 73ms/step - loss: 0.3623\n",
            "Epoch 37/50\n",
            "31/31 [==============================] - 2s 74ms/step - loss: 0.3448\n",
            "Epoch 38/50\n",
            "31/31 [==============================] - 2s 75ms/step - loss: 0.3265\n",
            "Epoch 39/50\n",
            "31/31 [==============================] - 2s 74ms/step - loss: 0.3163\n",
            "Epoch 40/50\n",
            "31/31 [==============================] - 2s 72ms/step - loss: 0.3021\n",
            "Epoch 41/50\n",
            "31/31 [==============================] - 2s 74ms/step - loss: 0.2926\n",
            "Epoch 42/50\n",
            "31/31 [==============================] - 2s 74ms/step - loss: 0.2851\n",
            "Epoch 43/50\n",
            "31/31 [==============================] - 2s 74ms/step - loss: 0.2755\n",
            "Epoch 44/50\n",
            "31/31 [==============================] - 2s 74ms/step - loss: 0.2669\n",
            "Epoch 45/50\n",
            "31/31 [==============================] - 2s 74ms/step - loss: 0.2621\n",
            "Epoch 46/50\n",
            "31/31 [==============================] - 2s 73ms/step - loss: 0.2563\n",
            "Epoch 47/50\n",
            "31/31 [==============================] - 2s 74ms/step - loss: 0.2493\n",
            "Epoch 48/50\n",
            "31/31 [==============================] - 2s 74ms/step - loss: 0.2421\n",
            "Epoch 49/50\n",
            "31/31 [==============================] - 2s 73ms/step - loss: 0.2414\n",
            "Epoch 50/50\n",
            "31/31 [==============================] - 2s 74ms/step - loss: 0.2358\n"
          ],
          "name": "stdout"
        }
      ]
    },
    {
      "cell_type": "markdown",
      "metadata": {
        "colab_type": "text",
        "id": "kKkD5M6eoSiN"
      },
      "source": [
        "### Generación de texto"
      ]
    },
    {
      "cell_type": "code",
      "metadata": {
        "colab_type": "code",
        "id": "zk2WJ2-XjkGz",
        "outputId": "a78dcd0b-ac72-477e-b5eb-67c228b3308c",
        "colab": {
          "base_uri": "https://localhost:8080/",
          "height": 35
        }
      },
      "source": [
        "tf.train.latest_checkpoint(checkpoint_dir)"
      ],
      "execution_count": 25,
      "outputs": [
        {
          "output_type": "execute_result",
          "data": {
            "text/plain": [
              "'./training_checkpoints/ckpt_50'"
            ]
          },
          "metadata": {
            "tags": []
          },
          "execution_count": 25
        }
      ]
    },
    {
      "cell_type": "code",
      "metadata": {
        "colab_type": "code",
        "id": "LycQ-ot_jjyu",
        "colab": {}
      },
      "source": [
        "model = build_model(vocab_size, embedding_dim, rnn_units, batch_size=1)\n",
        "\n",
        "model.load_weights(tf.train.latest_checkpoint(checkpoint_dir))\n",
        "\n",
        "model.build(tf.TensorShape([1, None]))"
      ],
      "execution_count": 0,
      "outputs": []
    },
    {
      "cell_type": "code",
      "metadata": {
        "colab_type": "code",
        "id": "WvuwZBX5Ogfd",
        "colab": {}
      },
      "source": [
        "def generate_text(model, start_string):\n",
        "\n",
        "  num_generate = 500\n",
        "  input_eval = [char2idx[s] for s in start_string]\n",
        "\n",
        "  input_eval = tf.expand_dims(input_eval, 0)\n",
        "  text_generated = []\n",
        "\n",
        "\n",
        "  temperature = 0.5\n",
        "\n",
        "  model.reset_states()\n",
        "  for i in range(num_generate):\n",
        "      predictions = model(input_eval)\n",
        "      \n",
        "      predictions = tf.squeeze(predictions, 0)\n",
        "\n",
        "      predictions = predictions / temperature\n",
        "      predicted_id = tf.random.categorical(predictions, num_samples=1)[-1,0].numpy()\n",
        "\n",
        "\n",
        "      input_eval = tf.expand_dims([predicted_id], 0)\n",
        "\n",
        "      text_generated.append(idx2char[predicted_id])\n",
        "\n",
        "  return (start_string + ''.join(text_generated))"
      ],
      "execution_count": 0,
      "outputs": []
    },
    {
      "cell_type": "code",
      "metadata": {
        "colab_type": "code",
        "id": "ktovv0RFhrkn",
        "outputId": "9e5c3f9f-c554-4c43-a346-d0489bc94b3e",
        "colab": {
          "base_uri": "https://localhost:8080/",
          "height": 72
        }
      },
      "source": [
        "print(generate_text(model, start_string=u\"a\"))"
      ],
      "execution_count": 28,
      "outputs": [
        {
          "output_type": "stream",
          "text": [
            "al de que se deben con el filtro y el punado de 25 neuronas (5?5) de la capa de entrada.\n",
            "Ahora bien, lo particular y muy importante en el resultado del aprendizaje.  Estos de tamano que comentaremos mas adelante, en el proceso de entrenamiento aparecera el concepto de overfitting (al que tambien referenciaremos por su tratado con una sola generado es una excelencia de cada uno de sus pixeles a esa clase. Para explicar los casos en que el modelo en cada paso la nueva generacion de supercomputacion\n"
          ],
          "name": "stdout"
        }
      ]
    }
  ]
}